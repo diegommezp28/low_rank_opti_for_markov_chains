{
 "cells": [
  {
   "cell_type": "code",
   "execution_count": 124,
   "metadata": {},
   "outputs": [],
   "source": [
    "import numpy as np\n",
    "from scipy.sparse import random as random_sparse\n",
    "import random"
   ]
  },
  {
   "cell_type": "markdown",
   "metadata": {},
   "source": [
    "Create random Sparse Nonegative Matrix uniformly distributed between 0 and 1"
   ]
  },
  {
   "cell_type": "code",
   "execution_count": 252,
   "metadata": {},
   "outputs": [],
   "source": [
    "\n",
    "p = 4 #number of states\n",
    "states = [i for i in range(p)]\n",
    "P = random_sparse(p, p, density=0.1).toarray()\n"
   ]
  },
  {
   "cell_type": "markdown",
   "metadata": {},
   "source": [
    "Make sure the matrix is ergodic"
   ]
  },
  {
   "cell_type": "code",
   "execution_count": 253,
   "metadata": {},
   "outputs": [],
   "source": [
    "from scipy.stats import *\n",
    "\n",
    "cycle_states = [i for i in range(p)]\n",
    "random.shuffle(cycle_states)\n",
    "# print(cycle_states)\n",
    "walk_values = uniform.rvs(size=p+1)\n",
    "\n",
    "for i, v in enumerate(walk_values):\n",
    "    P[i % p, ((i + 1) % p)] = v\n",
    "    "
   ]
  },
  {
   "cell_type": "markdown",
   "metadata": {},
   "source": [
    "Turn matrix into a markovian matrix (Normalize rows by row-wise sum so it adds up to 1)"
   ]
  },
  {
   "cell_type": "code",
   "execution_count": 137,
   "metadata": {},
   "outputs": [],
   "source": [
    "row_sum =  np.sum(P, axis=1).reshape(-1, 1)\n",
    "M = np.divide(P, row_sum)\n",
    "# print(M)\n",
    "# print(np.sum(M, axis=1))\n"
   ]
  },
  {
   "cell_type": "markdown",
   "metadata": {},
   "source": [
    "Verify the Matrix is Markovian (Row wise sum equals 1 or sends p-unity to the p-unity)"
   ]
  },
  {
   "cell_type": "code",
   "execution_count": 138,
   "metadata": {},
   "outputs": [
    {
     "name": "stdout",
     "output_type": "stream",
     "text": [
      "(5, 1)\n",
      "(5, 5)\n"
     ]
    }
   ],
   "source": [
    "print(row_sum.shape)\n",
    "print(M.shape)\n",
    "Sp = M @ np.array([1]*p)\n",
    "# print(Sp)"
   ]
  },
  {
   "cell_type": "markdown",
   "metadata": {},
   "source": [
    "## Generate the Matrix as in the Paper\n",
    "\n",
    "This method ensures low rank with a non-zero entry matrix"
   ]
  },
  {
   "cell_type": "code",
   "execution_count": 238,
   "metadata": {},
   "outputs": [
    {
     "name": "stdout",
     "output_type": "stream",
     "text": [
      "[1. 1. 1. 1. 1. 1. 1. 1. 1. 1. 1. 1. 1. 1. 1. 1. 1. 1. 1. 1. 1. 1. 1. 1.\n",
      " 1. 1. 1. 1. 1. 1. 1. 1. 1. 1. 1. 1. 1. 1. 1. 1. 1. 1. 1. 1. 1. 1. 1. 1.\n",
      " 1. 1. 1. 1. 1. 1. 1. 1. 1. 1. 1. 1. 1. 1. 1. 1. 1. 1. 1. 1. 1. 1. 1. 1.\n",
      " 1. 1. 1. 1. 1. 1. 1. 1. 1. 1. 1. 1. 1. 1. 1. 1. 1. 1. 1. 1. 1. 1. 1. 1.\n",
      " 1. 1. 1. 1.]\n",
      "[0.04252461 0.01088628 0.0393806  0.01249095 0.01897883 0.00095953\n",
      " 0.00552757 0.01544101 0.01431497 0.06386591 0.02487003 0.08348189\n",
      " 0.03702153 0.03981056 0.02040235 0.00226633 0.01049452 0.04258562\n",
      " 0.04201971 0.00838724 0.01381519 0.00140595 0.00255496 0.02347514\n",
      " 0.0075582  0.03189445 0.03761585 0.05975651 0.03569134 0.04685995\n",
      " 0.00491945 0.03246953 0.04171884 0.02341894 0.03946592 0.0074597\n",
      " 0.02816716 0.00774377 0.03526563 0.05246937 0.05724746 0.00039977\n",
      " 0.0820525  0.02361602 0.01792931 0.0072641  0.00797169 0.01365582\n",
      " 0.0098278  0.01496834 0.01941743 0.04429563 0.04773835 0.01248103\n",
      " 0.00482794 0.07226298 0.09426702 0.00880092 0.05698375 0.02207144\n",
      " 0.02430258 0.08201249 0.02535235 0.01163656 0.10315529 0.00684451\n",
      " 0.01175213 0.01178412 0.03204239 0.05469071 0.04393602 0.04242172\n",
      " 0.01351672 0.03893722 0.03571819 0.03666575 0.11421253 0.01560879\n",
      " 0.01997982 0.00083519 0.0146694  0.02605261 0.08695912 0.00426626\n",
      " 0.01416487 0.06862975 0.06528975 0.03336833 0.00688536 0.00662309\n",
      " 0.03323814 0.01040717 0.01820488 0.05263324 0.02168844 0.00467496\n",
      " 0.09105949 0.01455706 0.00485169 0.00885614]\n",
      "3\n"
     ]
    }
   ],
   "source": [
    "r = 3 #Desired rank of the transition matrix\n",
    "np.random.seed(0)\n",
    "U = np.random.standard_normal(size=(p, r))\n",
    "V = np.random.standard_normal(size=(p, r))\n",
    "\n",
    "def normalizeMatrix(H, axis=1):\n",
    "    axis_sum =  np.sum(H, axis=axis)\n",
    "    if axis:\n",
    "        return np.divide(H, axis_sum.reshape(-1, 1))\n",
    "    else:\n",
    "        return np.divide(H, axis_sum.reshape(1, -1))\n",
    "\n",
    "\n",
    "U1 = normalizeMatrix(U * U)\n",
    "V1 = normalizeMatrix(V * V, axis = 0)\n",
    "\n",
    "# print(np.sum(U1, axis=1))\n",
    "# print(np.sum(V1, axis=1))\n",
    "\n",
    "M = U1 @ V1.transpose()\n",
    "\n",
    "# print(M)\n",
    "print(np.linalg.matrix_rank(M))\n",
    "# print(np.sum(M, axis=1))"
   ]
  },
  {
   "cell_type": "markdown",
   "metadata": {},
   "source": [
    "## Generate matrix by hand"
   ]
  },
  {
   "cell_type": "code",
   "execution_count": 278,
   "metadata": {},
   "outputs": [
    {
     "name": "stdout",
     "output_type": "stream",
     "text": [
      "[[0.2  0.25 0.25 0.3 ]\n",
      " [0.2  0.25 0.3  0.25]\n",
      " [0.   0.   0.8  0.2 ]\n",
      " [0.   0.   0.4  0.6 ]]\n",
      "[1.17839549e+00 4.51105766e-01 3.43347716e-01 7.08340353e-17]\n",
      "[1. 1. 1. 1.]\n",
      "3\n"
     ]
    }
   ],
   "source": [
    "p = 4\n",
    "M = np.array([[0.2, 0.25, 0.25, 0.3], [0.2, 0.25, 0.3, 0.25], [0, 0, 0.8, 0.2], [0, 0, 0.4, 0.6]])\n",
    "print(M)\n",
    "print(svd(M)[1])\n",
    "print(M @ np.array([1]*p))\n",
    "print(np.linalg.matrix_rank(M))"
   ]
  },
  {
   "cell_type": "markdown",
   "metadata": {},
   "source": [
    "## Algorithm\n"
   ]
  },
  {
   "cell_type": "markdown",
   "metadata": {},
   "source": [
    "Simulate Random Walk of Size *n*"
   ]
  },
  {
   "cell_type": "code",
   "execution_count": 262,
   "metadata": {},
   "outputs": [],
   "source": [
    "current_state = np.random.choice(states)\n",
    "path = [current_state]\n",
    "# b = np.hstack(M[0])\n",
    "# print(b.shape)\n",
    "# n = round(30 *p * np.log(p))\n",
    "n = 10\n",
    "for i in range(n):\n",
    "    # print(i, end='')\n",
    "    current_state = np.random.choice(states, p = M[current_state])\n",
    "    path.append(current_state)\n"
   ]
  },
  {
   "cell_type": "code",
   "execution_count": 263,
   "metadata": {},
   "outputs": [
    {
     "name": "stdout",
     "output_type": "stream",
     "text": [
      "Number of samples: 10\n"
     ]
    }
   ],
   "source": [
    "print(f\"Number of samples: {n}\")"
   ]
  },
  {
   "cell_type": "markdown",
   "metadata": {},
   "source": [
    "Display True Transition Matrix\n"
   ]
  },
  {
   "cell_type": "code",
   "execution_count": 260,
   "metadata": {},
   "outputs": [
    {
     "name": "stdout",
     "output_type": "stream",
     "text": [
      "[[0.2  0.25 0.25 0.3 ]\n",
      " [0.2  0.25 0.3  0.25]\n",
      " [0.   0.   0.8  0.2 ]\n",
      " [0.   0.   0.4  0.6 ]]\n"
     ]
    }
   ],
   "source": [
    "print(M)"
   ]
  },
  {
   "cell_type": "markdown",
   "metadata": {},
   "source": [
    "Counting State transition based on random walk data"
   ]
  },
  {
   "cell_type": "code",
   "execution_count": 265,
   "metadata": {},
   "outputs": [
    {
     "name": "stdout",
     "output_type": "stream",
     "text": [
      "[[0. 0. 0. 0.]\n",
      " [0. 0. 0. 0.]\n",
      " [0. 0. 5. 2.]\n",
      " [0. 0. 2. 1.]]\n",
      "[0. 0. 7. 3.]\n"
     ]
    }
   ],
   "source": [
    "N = np.zeros((p, p))\n",
    "for k in range(n):\n",
    "    i, j = path[k], path[k + 1]\n",
    "    N[i, j] += 1\n",
    "print(N)\n",
    "Ni = np.sum(N, axis=1).flatten()\n",
    "print(Ni)"
   ]
  },
  {
   "cell_type": "markdown",
   "metadata": {},
   "source": [
    "## Algorithm Initial Point"
   ]
  },
  {
   "cell_type": "code",
   "execution_count": 279,
   "metadata": {},
   "outputs": [
    {
     "name": "stderr",
     "output_type": "stream",
     "text": [
      "C:\\Users\\diego\\AppData\\Local\\Temp\\ipykernel_31080\\284028935.py:27: RuntimeWarning: invalid value encountered in true_divide\n",
      "  X = np.divide(X, np.sum(X, axis=1).reshape(-1, 1))\n"
     ]
    }
   ],
   "source": [
    "from scipy.linalg import block_diag\n",
    "from scipy.stats import ortho_group\n",
    "\n",
    "#Parameters\n",
    "iter_number = 1000\n",
    "penalty = 0.5\n",
    "step_len = 0.5\n",
    "c = 3 #Rank constraint??\n",
    "\n",
    "#Constants\n",
    "b = np.ones(shape=(p, 1))\n",
    "A = block_diag(*[b.transpose()]*p)\n",
    "index = np.copy(N)\n",
    "index[index != 0] = 1 #All nonzero entries of our transition state counts are convert into 1\n",
    "not_index = - (index - 1)\n",
    "\n",
    "def AstarFunc(y):\n",
    "    # print(\"y shape\", y.shape)\n",
    "    return (A.transpose() @ y).reshape((p, p))\n",
    "def AFunc(M):\n",
    "    # print(y.flatten().transpose().shape)\n",
    "    return M @ b\n",
    "\n",
    "#Don't know any heuristics for a 'good' initial point\n",
    "S = ortho_group.rvs(p) @ np.diag(uniform.rvs(size=p) * c) @ ortho_group.rvs(p).T # random matrix with 0 < spectral norm < c. \n",
    "X = N\n",
    "X = np.divide(X, np.sum(X, axis=1).reshape(-1, 1))\n",
    "y = np.random.rand(p, 1)\n",
    "Xi = -(S + AstarFunc(y))\n",
    "\n",
    "# print(A @ A.transpose())\n",
    "# print(np.linalg.norm(S, ord=2))\n",
    "# print(np.linalg.norm(Xi + S + AstarFunc(y)))\n"
   ]
  },
  {
   "cell_type": "markdown",
   "metadata": {},
   "source": [
    "Initial point by hand"
   ]
  },
  {
   "cell_type": "code",
   "execution_count": 298,
   "metadata": {},
   "outputs": [
    {
     "name": "stdout",
     "output_type": "stream",
     "text": [
      "[[1 0 0 0]\n",
      " [1 1 1 1]\n",
      " [0 2 4 2]\n",
      " [0 1 2 1]]\n"
     ]
    }
   ],
   "source": [
    "N = np.array([[1, 0, 0, 0], [1, 1, 1, 1], [0, 2, 4, 2], [0, 1, 2, 1]])\n",
    "n = 17\n",
    "print(N)"
   ]
  },
  {
   "cell_type": "code",
   "execution_count": 307,
   "metadata": {},
   "outputs": [
    {
     "name": "stdout",
     "output_type": "stream",
     "text": [
      "[[1 0 0 0]\n",
      " [0 1 0 0]\n",
      " [0 0 1 0]\n",
      " [0 0 0 1]]\n",
      "[[2 0 0 0]\n",
      " [0 2 0 0]\n",
      " [0 0 1 0]\n",
      " [0 0 0 0]]\n",
      "[[ 0 -2  0  0]\n",
      " [ 2  0  0  0]\n",
      " [ 0  0  1  0]\n",
      " [ 0  0  0  0]]\n",
      "[2. 2. 1. 0.]\n",
      "[[1.   0.   0.   0.  ]\n",
      " [0.25 0.25 0.25 0.25]\n",
      " [0.   0.25 0.5  0.25]\n",
      " [0.   0.25 0.5  0.25]]\n"
     ]
    }
   ],
   "source": [
    "## First matrix S\n",
    "U = np.array([[0, -1, 0, 0], [1, 0, 0, 0], [0, 0, 1, 0], [0, 0, 0, 1]]) #90deg rotation on the x-y plane\n",
    "D = np.diag([2, 2, 1, 0])\n",
    "print( U @ U.transpose())\n",
    "print(D)\n",
    "X = N\n",
    "X = np.divide(X, np.sum(X, axis=1).reshape(-1, 1))\n",
    "S = U @ D\n",
    "print(S)\n",
    "print(svd(S)[1])\n",
    "print(X)\n",
    "\n",
    "penalty = 0.5\n",
    "step_len = 0.5\n",
    "c = 2 #Rank constraint??"
   ]
  },
  {
   "cell_type": "code",
   "execution_count": 308,
   "metadata": {},
   "outputs": [
    {
     "name": "stdout",
     "output_type": "stream",
     "text": [
      "[[0.5]\n",
      " [0.5]\n",
      " [0. ]\n",
      " [1. ]]\n",
      "[[0.5 0.5 0.5 0.5]\n",
      " [0.5 0.5 0.5 0.5]\n",
      " [0.  0.  0.  0. ]\n",
      " [1.  1.  1.  1. ]]\n",
      "[[ 1.5 -0.5 -0.5 -0.5]\n",
      " [ 0.   0.   0.   0. ]\n",
      " [ 0.   0.5  1.   0.5]\n",
      " [-1.  -0.5  0.  -0.5]]\n",
      "[[0.5]\n",
      " [0.5]\n",
      " [0. ]\n",
      " [1. ]]\n"
     ]
    }
   ],
   "source": [
    "# Y and Xi\n",
    "y = np.array([[0.5, 0.5, 0, 1]]).transpose()\n",
    "Xi = -(S + AstarFunc(y))\n",
    "print(y)\n",
    "print(AstarFunc(y))\n",
    "print(Xi + S + X/penalty)\n",
    "print(computeY(Xi, S, X))"
   ]
  },
  {
   "cell_type": "code",
   "execution_count": 310,
   "metadata": {},
   "outputs": [
    {
     "name": "stdout",
     "output_type": "stream",
     "text": [
      "[[-2.  -2.  -0.  -0. ]\n",
      " [ 1.5 -0.5 -0.5 -0.5]\n",
      " [-0.  -0.5 -0.  -0.5]\n",
      " [-0.  -0.5 -1.  -0.5]]\n",
      "[2.97316067 1.86227807 0.74935615 0.36152645]\n",
      "[2.         1.86227807 0.74935615 0.36152645]\n"
     ]
    }
   ],
   "source": [
    "##S\n",
    "W = -(Xi + AstarFunc(y) + (X / penalty))\n",
    "print(W)\n",
    "Uo, s, Vh = svd(W, full_matrices=False) \n",
    "print(s)\n",
    "S2 = computeS(Xi, y, X)\n",
    "print(svd(S2)[1])"
   ]
  },
  {
   "cell_type": "code",
   "execution_count": 321,
   "metadata": {},
   "outputs": [
    {
     "name": "stdout",
     "output_type": "stream",
     "text": [
      "[[ 2.5 -1.5  0.5  0.5]\n",
      " [ 3.   1.   1.   1. ]\n",
      " [ 0.   0.5  2.   0.5]\n",
      " [ 1.   1.5  2.   1.5]]\n",
      "1.2731024338064798\n",
      "1.2731024338064798\n",
      "0.04620486761295961\n",
      "0.04620486761295961\n",
      "[[0.04620487 1.5        0.         0.        ]\n",
      " [0.03871604 0.10633906 0.10633906 0.10633906]\n",
      " [0.         0.29570516 0.21267813 0.29570516]\n",
      " [0.         0.07471029 0.11143786 0.07471029]]\n",
      "[[0 1 1 1]\n",
      " [0 0 0 0]\n",
      " [1 0 0 0]\n",
      " [1 0 0 0]]\n"
     ]
    }
   ],
   "source": [
    "## Xi\n",
    "R = AstarFunc(y) + S + X/penalty\n",
    "print(R)\n",
    "index = np.copy(N)\n",
    "index[index != 0] = 1 #All nonzero entries of our transition state counts are convert into 1\n",
    "not_index = - (index - 1)\n",
    "print((2.5 + np.sqrt(2.5**2 + 8/17))/(4))\n",
    "print(penalty*(R[0,0] + np.sqrt(R[0,0]**2 + 4*N[0,0]/(n * penalty)))/(2))\n",
    "print((((2.5 + np.sqrt(2.5**2 + 8/17))/(4))- 2.5/2)*2)\n",
    "print((1.2731024338064798 - 2.5/2)*2)\n",
    "\n",
    "Xi2 = computeXi(y, S, X)\n",
    "print(Xi2)\n",
    "print(not_index)"
   ]
  },
  {
   "cell_type": "code",
   "execution_count": 292,
   "metadata": {},
   "outputs": [
    {
     "name": "stdout",
     "output_type": "stream",
     "text": [
      "[[0. 0. 0. 0.]\n",
      " [0. 0. 0. 0.]\n",
      " [0. 0. 5. 2.]\n",
      " [0. 0. 2. 1.]]\n"
     ]
    }
   ],
   "source": [
    "print(X)"
   ]
  },
  {
   "cell_type": "markdown",
   "metadata": {},
   "source": [
    "### Computation"
   ]
  },
  {
   "cell_type": "code",
   "execution_count": 301,
   "metadata": {},
   "outputs": [],
   "source": [
    "from scipy.linalg import svd\n",
    "\n",
    "def computeY(Xi, S, X):\n",
    "    y = (1 / (penalty * p)) * (b - penalty*AFunc(Xi + S + (1/penalty)* X))\n",
    "    return y\n",
    "\n",
    "def computeXi(y, S, X):\n",
    "    R = AstarFunc(y) + S + X * (1 / penalty)\n",
    "    Z = penalty * (index * 0.5 * (R + np.sqrt(R ** 2 + 4 * N / (n * penalty))) + not_index * np.maximum(R, 0) )\n",
    "    return (1 / penalty) * (Z - penalty * R)\n",
    "    \n",
    "\n",
    "def computeS(Xi, y, X):\n",
    "    W = -(Xi + AstarFunc(y) + (X / penalty))\n",
    "    U, s, Vh = svd(W, full_matrices=False) #Computes de partial SVD of W\n",
    "    # print(s)\n",
    "    return U @ np.diag(np.minimum(s, c)) @ Vh\n",
    "    \n"
   ]
  },
  {
   "cell_type": "code",
   "execution_count": 37,
   "metadata": {},
   "outputs": [
    {
     "name": "stdout",
     "output_type": "stream",
     "text": [
      "(10,)\n",
      "(100,)\n"
     ]
    },
    {
     "data": {
      "text/plain": [
       "(100, 10)"
      ]
     },
     "execution_count": 37,
     "metadata": {},
     "output_type": "execute_result"
    }
   ],
   "source": [
    "print((A @ (Xi + S + (1/penalty)* X).flatten()).shape)\n",
    "print((Xi + S + (1/penalty)* X).flatten().shape)\n",
    "A.transpose().shape"
   ]
  },
  {
   "cell_type": "code",
   "execution_count": 249,
   "metadata": {},
   "outputs": [
    {
     "name": "stdout",
     "output_type": "stream",
     "text": [
      "1.1456538622870451\n",
      "1.0095333008446663\n",
      "0.9967088240459673\n",
      "1.022337233416906\n",
      "1.0484462781681176\n",
      "1.0684239850463688\n",
      "1.0826592209641919\n",
      "1.0925684415871841\n",
      "1.099405843789086\n",
      "1.1041197117298285\n",
      "1.1073752814719584\n",
      "1.1096347922295515\n",
      "1.1112240128096187\n",
      "1.112356493488765\n",
      "1.1131699488131217\n",
      "1.1137598623786684\n",
      "1.1141904757056789\n",
      "1.114505972474606\n",
      "1.1147368103717443\n",
      "1.1149046441449249\n",
      "1.115026343269383\n",
      "1.1151149700847764\n",
      "1.1151801546127638\n",
      "1.1152287654472568\n",
      "1.1152656268451924\n",
      "1.115295528584062\n",
      "1.1153203471962316\n",
      "1.1153413543548638\n",
      "1.1153594501957316\n",
      "1.1153752750626442\n",
      "1.115389288269132\n",
      "1.1154018229243896\n",
      "1.1154131239788034\n",
      "1.1154233746012212\n",
      "1.1154327144666534\n",
      "1.115441252441831\n",
      "1.1154490742514531\n",
      "1.1154561351608645\n",
      "1.1154625496714685\n",
      "1.1154684083305075\n",
      "1.1154737820899594\n",
      "1.1154787271045563\n",
      "1.115483288530294\n",
      "1.115487503366505\n",
      "1.1154914025375215\n",
      "1.1154950124013236\n",
      "1.115498355837314\n",
      "1.115501453029515\n",
      "1.1155043220313807\n",
      "1.1155069791749197\n",
      "1.115509439369228\n",
      "1.1155117163205968\n",
      "1.1155138226970367\n",
      "1.1155157702533696\n",
      "1.115517569928287\n",
      "1.115519231921411\n",
      "1.1155207657560018\n",
      "1.1155221803312947\n",
      "1.1155234839672568\n",
      "1.1155246844437239\n",
      "1.1155257890353012\n",
      "1.1155268045429942\n",
      "1.1155277373232515\n",
      "1.1155285933148993\n",
      "1.1155293780643065\n",
      "1.115530096749022\n",
      "1.1155307542000577\n",
      "1.115531354922941\n",
      "1.1155319031176367\n",
      "1.1155324026974032\n",
      "1.1155328573066488\n",
      "1.1155332703378298\n",
      "1.115533644947438\n",
      "1.1155339840711114\n",
      "1.1155342904379075\n",
      "1.1155345665837695\n",
      "1.1155348148642241\n",
      "1.115535037466337\n",
      "1.1155352364199647\n",
      "1.11553541360833\n",
      "1.1155355707779553\n",
      "1.1155357095479825\n",
      "1.1155358314189137\n",
      "1.1155359377807976\n",
      "1.1155360299208947\n",
      "1.1155361090308484\n",
      "1.1155361762133884\n",
      "1.1155362324885933\n",
      "1.1155362787997405\n",
      "1.115536316018763\n",
      "1.115536344951341\n",
      "1.1155363663416473\n",
      "1.1155363808767715\n",
      "1.1155363891908392\n",
      "1.1155363918688483\n",
      "1.1155363894502388\n",
      "1.1155363824322158\n",
      "1.1155363712728383\n",
      "1.1155363563938934\n",
      "1.1155363381835655\n",
      "1.1155363169989188\n",
      "1.1155362931682036\n",
      "1.1155362669929965\n",
      "1.1155362387501893\n",
      "1.115536208693836\n",
      "1.115536177056866\n",
      "1.1155361440526728\n",
      "1.115536109876592\n",
      "1.1155360747072673\n",
      "1.115536038707922\n",
      "1.1155360020275338\n",
      "1.1155359648019278\n",
      "1.1155359271547869\n",
      "1.1155358891985891\n",
      "1.1155358510354776\n",
      "1.1155358127580635\n",
      "1.1155357744501724\n",
      "1.115535736187535\n",
      "1.1155356980384261\n",
      "1.1155356600642556\n",
      "1.1155356223201187\n",
      "1.1155355848553004\n",
      "1.115535547713746\n",
      "1.1155355109344955\n",
      "1.1155354745520845\n",
      "1.115535438596915\n",
      "1.1155354030956004\n",
      "1.1155353680712807\n",
      "1.1155353335439182\n",
      "1.1155352995305654\n",
      "1.1155352660456186\n",
      "1.1155352331010466\n",
      "1.115535200706605\n",
      "1.1155351688700337\n",
      "1.1155351375972369\n",
      "1.1155351068924526\n",
      "1.115535076758406\n",
      "1.1155350471964527\n",
      "1.1155350182067092\n",
      "1.1155349897881737\n",
      "1.1155349619388384\n",
      "1.115534934655791\n",
      "1.1155349079353092\n",
      "1.1155348817729471\n",
      "1.1155348561636147\n",
      "1.1155348311016515\n",
      "1.1155348065808928\n",
      "1.1155347825947315\n",
      "1.115534759136175\n",
      "1.1155347361978951\n",
      "1.1155347137722773\n",
      "1.1155346918514624\n",
      "1.1155346704273865\n",
      "1.1155346494918172\n",
      "1.115534629036386\n",
      "1.115534609052617\n",
      "1.1155345895319573\n",
      "1.1155345704657977\n",
      "1.1155345518454978\n",
      "1.1155345336624045\n",
      "1.1155345159078711\n",
      "1.115534498573274\n",
      "1.115534481650026\n",
      "1.1155344651295913\n",
      "1.115534449003496\n",
      "1.1155344332633395\n",
      "1.1155344179008033\n",
      "1.11553440290766\n",
      "1.1155343882757789\n",
      "1.1155343739971348\n",
      "1.1155343600638121\n",
      "1.1155343464680094\n",
      "1.115534333202044\n",
      "1.1155343202583554\n",
      "1.1155343076295077\n",
      "1.1155342953081928\n",
      "1.1155342832872315\n",
      "1.1155342715595746\n",
      "1.115534260118305\n",
      "1.115534248956637\n",
      "1.1155342380679185\n",
      "1.1155342274456286\n",
      "1.115534217083379\n",
      "1.1155342069749132\n",
      "1.1155341971141057\n",
      "1.115534187494961\n",
      "1.1155341781116122\n",
      "1.1155341689583207\n",
      "1.1155341600294744\n",
      "1.1155341513195853\n",
      "1.1155341428232899\n",
      "1.1155341345353453\n",
      "1.115534126450629\n",
      "1.1155341185641365\n",
      "1.11553411087098\n",
      "1.115534103366385\n",
      "1.11553409604569\n",
      "1.115534088904344\n",
      "1.1155340819379034\n",
      "1.1155340751420322\n"
     ]
    }
   ],
   "source": [
    "for _ in range(200):\n",
    "    # print(svd(S,  full_matrices=False)[1])\n",
    "    # print(Xi)\n",
    "    yk1_2 = computeY(Xi, S, X)\n",
    "    Xi = computeXi(y, S, X)\n",
    "    yk1 = computeY(Xi, S, X)\n",
    "    S = computeS(Xi, yk1, X)\n",
    "    X = X + step_len * penalty * (Xi + AstarFunc(yk1) + S)\n",
    "    print(np.linalg.norm((X-M), ord='fro'))\n",
    "    # print(_, end='')"
   ]
  },
  {
   "cell_type": "code",
   "execution_count": 217,
   "metadata": {},
   "outputs": [
    {
     "name": "stdout",
     "output_type": "stream",
     "text": [
      "[3.00000000e+00 8.14961374e-01 4.90800463e-01 4.68871724e-01\n",
      " 2.57288810e-01 2.23513791e-01 2.07098855e-01 7.83268302e-02\n",
      " 5.94566252e-02 3.68026452e-04]\n"
     ]
    }
   ],
   "source": [
    "print(svd(S)[1])"
   ]
  },
  {
   "cell_type": "code",
   "execution_count": 200,
   "metadata": {},
   "outputs": [
    {
     "name": "stdout",
     "output_type": "stream",
     "text": [
      "[[0.08760009 0.1038774  0.1052948  0.11034017 0.11997745 0.0995497\n",
      "  0.09915211 0.1019819  0.08445389 0.08921931]\n",
      " [0.08754638 0.10384919 0.10498278 0.11035146 0.11993923 0.0996179\n",
      "  0.0990096  0.10193428 0.08438239 0.08922957]\n",
      " [0.08730434 0.10369823 0.10461109 0.11000161 0.11963867 0.09921214\n",
      "  0.09885904 0.10164318 0.08418075 0.08892483]\n",
      " [0.08721143 0.10325241 0.10439898 0.11005077 0.11927223 0.09911843\n",
      "  0.09861684 0.10173027 0.08406562 0.08879422]\n",
      " [0.08725575 0.10341982 0.10449376 0.10994813 0.11948407 0.09922113\n",
      "  0.09876769 0.10155025 0.08410966 0.08886215]\n",
      " [0.08720033 0.10327578 0.10456392 0.10988719 0.11947913 0.0991792\n",
      "  0.09853319 0.10152419 0.08406542 0.08882599]\n",
      " [0.08774669 0.10393624 0.10507174 0.11075505 0.12015065 0.09980533\n",
      "  0.09932638 0.10231174 0.08459885 0.08941195]\n",
      " [0.08788356 0.10420942 0.10526433 0.11076236 0.12042689 0.09994306\n",
      "  0.09933446 0.10232141 0.08465336 0.08948565]\n",
      " [0.08654214 0.10247882 0.10362962 0.10900686 0.11917949 0.09834557\n",
      "  0.09782527 0.10075969 0.08345495 0.0881539 ]\n",
      " [0.08723489 0.10329581 0.10445803 0.11017708 0.11952688 0.0993309\n",
      "  0.09860678 0.10166657 0.08412282 0.08885875]]\n"
     ]
    }
   ],
   "source": [
    "print(X)\n",
    "# print(X @ b)\n",
    "# print(np.linalg.norm((X-M), ord='fro'))"
   ]
  },
  {
   "cell_type": "markdown",
   "metadata": {},
   "source": [
    "Divergence "
   ]
  },
  {
   "cell_type": "code",
   "execution_count": null,
   "metadata": {},
   "outputs": [],
   "source": []
  },
  {
   "cell_type": "code",
   "execution_count": 388,
   "metadata": {},
   "outputs": [
    {
     "data": {
      "text/plain": [
       "array([[-0.05192858, -0.02106327,  0.7623498 ,  0.12689153, -0.20668074,\n",
       "         0.38171573, -0.22684618,  0.05700147,  0.03250422,  0.68304834],\n",
       "       [-0.9213023 ,  0.15364065, -0.21977149,  0.38887912,  0.57493247,\n",
       "        -0.27710732, -0.23335893,  0.45009374,  0.27842198, -0.0835563 ],\n",
       "       [-0.21251501, -0.50032127,  0.22295982, -0.08145476, -0.17847434,\n",
       "        -0.00711511,  0.82355032,  0.84480824, -0.02223802,  0.10432343],\n",
       "       [ 0.82448126, -0.1504518 , -0.96665194, -0.38616322, -0.31939372,\n",
       "        -0.61070449,  0.10989224,  0.08799741, -0.43797771,  0.61648308],\n",
       "       [ 0.4743206 , -0.95398916,  0.96938304,  0.48428192,  0.64037873,\n",
       "         0.93023749,  0.50160421, -0.6809764 ,  0.80659214, -0.29842931],\n",
       "       [ 0.70718733, -0.81918708, -0.56165384,  0.5036696 ,  0.0035726 ,\n",
       "         0.91299703,  0.97030812, -0.08711916,  0.76505666, -0.20310429],\n",
       "       [ 0.94777645, -0.92345866, -0.43484322, -0.99842342,  0.30478596,\n",
       "         0.39805816, -0.15135518,  0.38266725,  0.86265025, -0.78034249],\n",
       "       [-0.05700369,  0.41191779, -0.30588578,  0.34527799, -0.77132542,\n",
       "        -0.03381622, -0.6201554 ,  0.24050102, -0.95765976, -0.20972213],\n",
       "       [-0.98158156, -0.17866065, -0.559842  ,  0.78494588, -0.88142051,\n",
       "         0.45578988,  0.0215603 , -0.11348842, -0.66974374, -0.11149792],\n",
       "       [ 0.71664523,  0.57237139, -0.83064949,  0.5089417 , -0.17341616,\n",
       "        -0.13916336, -0.10096381, -0.43594411, -0.22667128, -0.83713444]])"
      ]
     },
     "execution_count": 388,
     "metadata": {},
     "output_type": "execute_result"
    }
   ],
   "source": [
    "R = np.random.rand(p, p) * 2 - 1\n",
    "R"
   ]
  },
  {
   "cell_type": "code",
   "execution_count": 389,
   "metadata": {},
   "outputs": [
    {
     "name": "stdout",
     "output_type": "stream",
     "text": [
      "[[0. 1. 0. 0. 0. 1. 0. 0. 0. 0.]\n",
      " [0. 0. 1. 0. 0. 0. 0. 0. 0. 0.]\n",
      " [0. 0. 0. 1. 0. 0. 0. 0. 0. 0.]\n",
      " [0. 0. 0. 0. 1. 0. 0. 1. 1. 0.]\n",
      " [0. 0. 0. 0. 0. 1. 0. 0. 0. 0.]\n",
      " [0. 0. 0. 0. 0. 0. 1. 0. 0. 0.]\n",
      " [1. 0. 1. 0. 0. 0. 0. 1. 0. 0.]\n",
      " [1. 0. 0. 0. 0. 0. 0. 0. 1. 0.]\n",
      " [0. 0. 0. 0. 0. 0. 0. 1. 0. 1.]\n",
      " [1. 0. 0. 0. 0. 0. 0. 0. 1. 0.]]\n"
     ]
    },
    {
     "data": {
      "text/plain": [
       "array([[0.05192858, 0.39797313, 0.        , 0.        , 0.20668074,\n",
       "        0.24091375, 0.22684618, 0.        , 0.        , 0.        ],\n",
       "       [0.9213023 , 0.        , 0.51247099, 0.        , 0.        ,\n",
       "        0.27710732, 0.23335893, 0.        , 0.        , 0.0835563 ],\n",
       "       [0.21251501, 0.50032127, 0.        , 0.43016122, 0.17847434,\n",
       "        0.00711511, 0.        , 0.        , 0.02223802, 0.        ],\n",
       "       [0.        , 0.1504518 , 0.96665194, 0.38616322, 0.43447511,\n",
       "        0.61070449, 0.        , 0.18389576, 0.53196828, 0.        ],\n",
       "       [0.        , 0.95398916, 0.        , 0.        , 0.        ,\n",
       "        0.05095823, 0.        , 0.6809764 , 0.        , 0.29842931],\n",
       "       [0.        , 0.81918708, 0.56165384, 0.        , 0.        ,\n",
       "        0.        , 0.17467506, 0.08711916, 0.        , 0.20310429],\n",
       "       [0.0501061 , 0.92345866, 0.52930646, 0.99842342, 0.        ,\n",
       "        0.        , 0.15135518, 0.17827232, 0.        , 0.78034249],\n",
       "       [0.25391781, 0.        , 0.30588578, 0.        , 0.77132542,\n",
       "        0.03381622, 0.6201554 , 0.        , 1.09468542, 0.20972213],\n",
       "       [0.98158156, 0.17866065, 0.559842  , 0.        , 0.88142051,\n",
       "        0.        , 0.        , 0.28743861, 0.66974374, 0.55884731],\n",
       "       [0.21473506, 0.        , 0.83064949, 0.        , 0.17341616,\n",
       "        0.13916336, 0.10096381, 0.43594411, 0.36402462, 0.83713444]])"
      ]
     },
     "execution_count": 389,
     "metadata": {},
     "output_type": "execute_result"
    }
   ],
   "source": [
    "index = np.copy(N)\n",
    "index[index != 0] = 1\n",
    "print(index)\n",
    "# print(M)\n",
    "Z = -penalty * np.maximum(R, 0) * (index - 1) + index * 0.5 * penalty * (R + np.sqrt(R ** 2 + 4 * N/(n * penalty)))\n",
    "(1 / penalty) * (Z - penalty * R)\n"
   ]
  },
  {
   "cell_type": "code",
   "execution_count": 390,
   "metadata": {},
   "outputs": [
    {
     "name": "stdout",
     "output_type": "stream",
     "text": [
      "[[0.         0.         0.7623498  0.12689153 0.         0.38171573\n",
      "  0.         0.05700147 0.03250422 0.68304834]\n",
      " [0.         0.15364065 0.         0.38887912 0.57493247 0.\n",
      "  0.         0.45009374 0.27842198 0.        ]\n",
      " [0.         0.         0.22295982 0.         0.         0.\n",
      "  0.82355032 0.84480824 0.         0.10432343]\n",
      " [0.82448126 0.         0.         0.         0.         0.\n",
      "  0.10989224 0.08799741 0.         0.61648308]\n",
      " [0.4743206  0.         0.96938304 0.48428192 0.64037873 0.93023749\n",
      "  0.50160421 0.         0.80659214 0.        ]\n",
      " [0.70718733 0.         0.         0.5036696  0.0035726  0.91299703\n",
      "  0.97030812 0.         0.76505666 0.        ]\n",
      " [0.94777645 0.         0.         0.         0.30478596 0.39805816\n",
      "  0.         0.38266725 0.86265025 0.        ]\n",
      " [0.         0.41191779 0.         0.34527799 0.         0.\n",
      "  0.         0.24050102 0.         0.        ]\n",
      " [0.         0.         0.         0.78494588 0.         0.45578988\n",
      "  0.0215603  0.         0.         0.        ]\n",
      " [0.71664523 0.57237139 0.         0.5089417  0.         0.\n",
      "  0.         0.         0.         0.        ]]\n"
     ]
    },
    {
     "data": {
      "text/plain": [
       "array([[0.05192858, 0.39797313, 0.        , 0.        , 0.20668074,\n",
       "        0.24091375, 0.22684618, 0.        , 0.        , 0.        ],\n",
       "       [0.9213023 , 0.        , 0.51247099, 0.        , 0.        ,\n",
       "        0.27710732, 0.23335893, 0.        , 0.        , 0.0835563 ],\n",
       "       [0.21251501, 0.50032127, 0.        , 0.43016122, 0.17847434,\n",
       "        0.00711511, 0.        , 0.        , 0.02223802, 0.        ],\n",
       "       [0.        , 0.1504518 , 0.96665194, 0.38616322, 0.43447511,\n",
       "        0.61070449, 0.        , 0.18389576, 0.53196828, 0.        ],\n",
       "       [0.        , 0.95398916, 0.        , 0.        , 0.        ,\n",
       "        0.05095823, 0.        , 0.6809764 , 0.        , 0.29842931],\n",
       "       [0.        , 0.81918708, 0.56165384, 0.        , 0.        ,\n",
       "        0.        , 0.17467506, 0.08711916, 0.        , 0.20310429],\n",
       "       [0.0501061 , 0.92345866, 0.52930646, 0.99842342, 0.        ,\n",
       "        0.        , 0.15135518, 0.17827232, 0.        , 0.78034249],\n",
       "       [0.25391781, 0.        , 0.30588578, 0.        , 0.77132542,\n",
       "        0.03381622, 0.6201554 , 0.        , 1.09468542, 0.20972213],\n",
       "       [0.98158156, 0.17866065, 0.559842  , 0.        , 0.88142051,\n",
       "        0.        , 0.        , 0.28743861, 0.66974374, 0.55884731],\n",
       "       [0.21473506, 0.        , 0.83064949, 0.        , 0.17341616,\n",
       "        0.13916336, 0.10096381, 0.43594411, 0.36402462, 0.83713444]])"
      ]
     },
     "execution_count": 390,
     "metadata": {},
     "output_type": "execute_result"
    }
   ],
   "source": [
    "Z = penalty * (index * 0.5 * (R + np.sqrt(R ** 2 + 4 * N / (n * penalty))) + not_index * np.maximum(R, 0) )\n",
    "print(np.maximum(R, 0))\n",
    "# print(R)\n",
    "(1 / penalty) * (Z - penalty * R)"
   ]
  },
  {
   "cell_type": "code",
   "execution_count": 391,
   "metadata": {},
   "outputs": [
    {
     "name": "stdout",
     "output_type": "stream",
     "text": [
      "[8.47349994e+01 1.15215110e-01 9.18088479e-02 6.24781823e-02\n",
      " 3.13113826e-02 2.28155098e-02 1.96844921e-02 1.40834422e-02\n",
      " 5.62155618e-03 2.89322336e-03]\n"
     ]
    },
    {
     "data": {
      "text/plain": [
       "array([4.00000000e+00, 1.15215110e-01, 9.18088479e-02, 6.24781823e-02,\n",
       "       3.13113826e-02, 2.28155098e-02, 1.96844921e-02, 1.40834422e-02,\n",
       "       5.62155618e-03, 2.89322336e-03])"
      ]
     },
     "execution_count": 391,
     "metadata": {},
     "output_type": "execute_result"
    }
   ],
   "source": [
    "W = -(Xi + AstarFunc(y) + (1 / penalty) * X)\n",
    "U, s, Vh = svd(W, full_matrices=False)\n",
    "# print(W)\n",
    "# print(U @ np.diag(s) @ Vh)\n",
    "print(s)\n",
    "np.minimum(s, c)"
   ]
  },
  {
   "cell_type": "code",
   "execution_count": 392,
   "metadata": {},
   "outputs": [
    {
     "name": "stdout",
     "output_type": "stream",
     "text": [
      "[[0.42715686 0.         0.        ]\n",
      " [0.         1.07438104 0.        ]\n",
      " [0.         0.         1.745115  ]]\n"
     ]
    }
   ],
   "source": [
    "from scipy.stats import ortho_group\n",
    "U = ortho_group.rvs(3)\n",
    "V = ortho_group.rvs(3)\n",
    "\n",
    "s = np.diag(uniform.rvs(size=3) * 3)\n",
    "H = U @ s @ V.T\n",
    "a, b, c = svd(H)\n",
    "print(s)"
   ]
  },
  {
   "cell_type": "code",
   "execution_count": 405,
   "metadata": {},
   "outputs": [
    {
     "name": "stdout",
     "output_type": "stream",
     "text": [
      "[[0.         0.00521323 0.         0.         0.         0.\n",
      "  0.         0.         0.99478677 0.        ]\n",
      " [0.         0.         0.34798682 0.         0.21439699 0.\n",
      "  0.1633798  0.         0.         0.2742364 ]\n",
      " [0.         0.         0.         1.         0.         0.\n",
      "  0.         0.         0.         0.        ]\n",
      " [0.         0.         0.         0.         0.53547528 0.\n",
      "  0.         0.         0.46452472 0.        ]\n",
      " [0.         0.         0.         0.         0.         1.\n",
      "  0.         0.         0.         0.        ]\n",
      " [0.         0.         0.         0.         0.         0.\n",
      "  0.63917481 0.         0.36082519 0.        ]\n",
      " [0.         0.         0.         0.         0.         0.\n",
      "  0.         1.         0.         0.        ]\n",
      " [0.04307161 0.37045709 0.         0.         0.39067867 0.\n",
      "  0.         0.         0.19579264 0.        ]\n",
      " [0.         0.         0.         0.         0.         0.\n",
      "  0.         0.53372806 0.         0.46627194]\n",
      " [1.         0.         0.         0.         0.         0.\n",
      "  0.         0.         0.         0.        ]]\n"
     ]
    },
    {
     "data": {
      "text/plain": [
       "array([1.24112731, 1.15941607, 1.00106923, 1.        , 1.        ,\n",
       "       0.67969834, 0.64496328, 0.47639652, 0.29523912, 0.23088409])"
      ]
     },
     "execution_count": 405,
     "metadata": {},
     "output_type": "execute_result"
    }
   ],
   "source": [
    "print(M)\n",
    "t = svd(M)\n",
    "t[1]"
   ]
  },
  {
   "cell_type": "markdown",
   "metadata": {},
   "source": [
    "Prueba manual\n"
   ]
  },
  {
   "cell_type": "code",
   "execution_count": 251,
   "metadata": {},
   "outputs": [
    {
     "name": "stdout",
     "output_type": "stream",
     "text": [
      "[[0.2  0.   0.   0.8 ]\n",
      " [0.   0.25 0.5  0.25]\n",
      " [0.   0.   0.8  0.2 ]\n",
      " [0.   0.   0.4  0.6 ]]\n",
      "[1.27338155 0.7599172  0.21661268 0.09541602]\n",
      "[1. 1. 1. 1.]\n"
     ]
    }
   ],
   "source": [
    "p = 4\n",
    "P = np.array([[0.2, 0, 0, 0.8], [0, 0.25, 0.5, 0.25], [0, 0, 0.8, 0.2], [0, 0, 0.4, 0.6]])\n",
    "print(P)\n",
    "print(svd(P)[1])\n",
    "print(P @ np.array([1]*p))"
   ]
  }
 ],
 "metadata": {
  "interpreter": {
   "hash": "226e7bd8e6111394e69e99b1c1bf60b2e9a9c9eb98fa629110f1d7ab938516c6"
  },
  "kernelspec": {
   "display_name": "Python 3.8.12 ('dataSciChal')",
   "language": "python",
   "name": "python3"
  },
  "language_info": {
   "codemirror_mode": {
    "name": "ipython",
    "version": 3
   },
   "file_extension": ".py",
   "mimetype": "text/x-python",
   "name": "python",
   "nbconvert_exporter": "python",
   "pygments_lexer": "ipython3",
   "version": "3.8.12"
  },
  "orig_nbformat": 4
 },
 "nbformat": 4,
 "nbformat_minor": 2
}
